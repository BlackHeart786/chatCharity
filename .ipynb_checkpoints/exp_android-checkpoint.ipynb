{
 "cells": [
  {
   "cell_type": "code",
   "execution_count": 1,
   "id": "c9bdcbd2-b582-4750-9c42-730ddb27e09e",
   "metadata": {},
   "outputs": [],
   "source": [
    "# importing the libraries\n",
    "import pandas as pd\n",
    "import re\n",
    "import matplotlib.pyplot as plt\n",
    "\n",
    "# Have to learn plotly in order to embed the HTML plots into the web...\n"
   ]
  },
  {
   "cell_type": "code",
   "execution_count": 25,
   "id": "e77c31fa-1653-4ad9-8a94-d886a594e784",
   "metadata": {
    "scrolled": true
   },
   "outputs": [
    {
     "data": {
      "text/plain": [
       "'Follow this link to join my WhatsApp group: https://chat.whatsapp.com/JWU9TA00h24FJE3WIONZSy'"
      ]
     },
     "execution_count": 25,
     "metadata": {},
     "output_type": "execute_result"
    }
   ],
   "source": [
    "# extract the data_time, mobile number, and the message\n",
    "with open('./chats/_chat_android.txt') as f:\n",
    "    content = f.read()  #inspect from here\n",
    "    pattern = r\"(.*?) \\- (.*?): (.*)\"\n",
    "\n",
    "    # Find all matches\n",
    "    matches = re.findall(pattern, content)\n",
    "    # Create DataFrame\n",
    "    df = pd.DataFrame(matches, columns=[\"Date_Time\", \"User\", \"Message\"])\n",
    "\n",
    "df.Message[7]"
   ]
  },
  {
   "cell_type": "code",
   "execution_count": 3,
   "id": "28411740-98ec-4795-b818-3136d09c176d",
   "metadata": {},
   "outputs": [
    {
     "ename": "NameError",
     "evalue": "name 'df' is not defined",
     "output_type": "error",
     "traceback": [
      "\u001b[0;31m---------------------------------------------------------------------------\u001b[0m",
      "\u001b[0;31mNameError\u001b[0m                                 Traceback (most recent call last)",
      "Cell \u001b[0;32mIn[3], line 1\u001b[0m\n\u001b[0;32m----> 1\u001b[0m df[[\u001b[38;5;124m'\u001b[39m\u001b[38;5;124mDate\u001b[39m\u001b[38;5;124m'\u001b[39m, \u001b[38;5;124m'\u001b[39m\u001b[38;5;124mTime\u001b[39m\u001b[38;5;124m'\u001b[39m]] \u001b[38;5;241m=\u001b[39m \u001b[43mdf\u001b[49m\u001b[38;5;241m.\u001b[39mDate_Time\u001b[38;5;241m.\u001b[39mstr\u001b[38;5;241m.\u001b[39msplit(\u001b[38;5;124m'\u001b[39m\u001b[38;5;124m,\u001b[39m\u001b[38;5;124m'\u001b[39m, expand\u001b[38;5;241m=\u001b[39m\u001b[38;5;28;01mTrue\u001b[39;00m)\n",
      "\u001b[0;31mNameError\u001b[0m: name 'df' is not defined"
     ]
    }
   ],
   "source": [
    "df[['Date', 'Time']] = df.Date_Time.str.split(',', expand=True)"
   ]
  },
  {
   "cell_type": "code",
   "execution_count": 8,
   "id": "e9bd4688-aa85-40b4-8d59-26d961a39331",
   "metadata": {
    "collapsed": true,
    "jupyter": {
     "outputs_hidden": true
    }
   },
   "outputs": [
    {
     "data": {
      "text/html": [
       "<div>\n",
       "<style scoped>\n",
       "    .dataframe tbody tr th:only-of-type {\n",
       "        vertical-align: middle;\n",
       "    }\n",
       "\n",
       "    .dataframe tbody tr th {\n",
       "        vertical-align: top;\n",
       "    }\n",
       "\n",
       "    .dataframe thead th {\n",
       "        text-align: right;\n",
       "    }\n",
       "</style>\n",
       "<table border=\"1\" class=\"dataframe\">\n",
       "  <thead>\n",
       "    <tr style=\"text-align: right;\">\n",
       "      <th></th>\n",
       "      <th>Date_Time</th>\n",
       "      <th>Number</th>\n",
       "      <th>Message</th>\n",
       "      <th>Date</th>\n",
       "      <th>Time</th>\n",
       "    </tr>\n",
       "  </thead>\n",
       "  <tbody>\n",
       "    <tr>\n",
       "      <th>0</th>\n",
       "      <td>29/08/23, 4:09:24 PM</td>\n",
       "      <td>+91 97481 96908‬</td>\n",
       "      <td>‎‪+91 97481 96908‬ created group “GDSC TIU Fre...</td>\n",
       "      <td>29/08/23</td>\n",
       "      <td>4:09:24 PM</td>\n",
       "    </tr>\n",
       "    <tr>\n",
       "      <th>1</th>\n",
       "      <td>26/11/23, 8:03:40 PM</td>\n",
       "      <td>+91 98833 49314‬</td>\n",
       "      <td>‎video omitted</td>\n",
       "      <td>26/11/23</td>\n",
       "      <td>8:03:40 PM</td>\n",
       "    </tr>\n",
       "    <tr>\n",
       "      <th>2</th>\n",
       "      <td>26/11/23, 9:27:29 PM</td>\n",
       "      <td>+91 80099 32451‬</td>\n",
       "      <td>‎image omitted</td>\n",
       "      <td>26/11/23</td>\n",
       "      <td>9:27:29 PM</td>\n",
       "    </tr>\n",
       "    <tr>\n",
       "      <th>3</th>\n",
       "      <td>26/11/23, 9:29:02 PM</td>\n",
       "      <td>+91 80099 32451‬</td>\n",
       "      <td>And ignore sample data pls</td>\n",
       "      <td>26/11/23</td>\n",
       "      <td>9:29:02 PM</td>\n",
       "    </tr>\n",
       "    <tr>\n",
       "      <th>4</th>\n",
       "      <td>26/11/23, 9:29:24 PM</td>\n",
       "      <td>+91 97481 96908‬</td>\n",
       "      <td>Polygon?</td>\n",
       "      <td>26/11/23</td>\n",
       "      <td>9:29:24 PM</td>\n",
       "    </tr>\n",
       "  </tbody>\n",
       "</table>\n",
       "</div>"
      ],
      "text/plain": [
       "              Date_Time            Number  \\\n",
       "0  29/08/23, 4:09:24 PM  +91 97481 96908‬   \n",
       "1  26/11/23, 8:03:40 PM  +91 98833 49314‬   \n",
       "2  26/11/23, 9:27:29 PM  +91 80099 32451‬   \n",
       "3  26/11/23, 9:29:02 PM  +91 80099 32451‬   \n",
       "4  26/11/23, 9:29:24 PM  +91 97481 96908‬   \n",
       "\n",
       "                                             Message      Date         Time  \n",
       "0  ‎‪+91 97481 96908‬ created group “GDSC TIU Fre...  29/08/23   4:09:24 PM  \n",
       "1                                     ‎video omitted  26/11/23   8:03:40 PM  \n",
       "2                                     ‎image omitted  26/11/23   9:27:29 PM  \n",
       "3                         And ignore sample data pls  26/11/23   9:29:02 PM  \n",
       "4                                           Polygon?  26/11/23   9:29:24 PM  "
      ]
     },
     "execution_count": 8,
     "metadata": {},
     "output_type": "execute_result"
    }
   ],
   "source": [
    "df.head()"
   ]
  },
  {
   "cell_type": "code",
   "execution_count": 10,
   "id": "fa4bec09-f4b5-450f-828c-288a40f24df4",
   "metadata": {},
   "outputs": [
    {
     "data": {
      "text/html": [
       "<div>\n",
       "<style scoped>\n",
       "    .dataframe tbody tr th:only-of-type {\n",
       "        vertical-align: middle;\n",
       "    }\n",
       "\n",
       "    .dataframe tbody tr th {\n",
       "        vertical-align: top;\n",
       "    }\n",
       "\n",
       "    .dataframe thead th {\n",
       "        text-align: right;\n",
       "    }\n",
       "</style>\n",
       "<table border=\"1\" class=\"dataframe\">\n",
       "  <thead>\n",
       "    <tr style=\"text-align: right;\">\n",
       "      <th></th>\n",
       "      <th>Number</th>\n",
       "      <th>Message</th>\n",
       "      <th>Date</th>\n",
       "      <th>Time</th>\n",
       "    </tr>\n",
       "  </thead>\n",
       "  <tbody>\n",
       "    <tr>\n",
       "      <th>0</th>\n",
       "      <td>+91 97481 96908‬</td>\n",
       "      <td>‎‪+91 97481 96908‬ created group “GDSC TIU Fre...</td>\n",
       "      <td>29/08/23</td>\n",
       "      <td>4:09:24 PM</td>\n",
       "    </tr>\n",
       "    <tr>\n",
       "      <th>1</th>\n",
       "      <td>+91 98833 49314‬</td>\n",
       "      <td>‎video omitted</td>\n",
       "      <td>26/11/23</td>\n",
       "      <td>8:03:40 PM</td>\n",
       "    </tr>\n",
       "    <tr>\n",
       "      <th>2</th>\n",
       "      <td>+91 80099 32451‬</td>\n",
       "      <td>‎image omitted</td>\n",
       "      <td>26/11/23</td>\n",
       "      <td>9:27:29 PM</td>\n",
       "    </tr>\n",
       "    <tr>\n",
       "      <th>3</th>\n",
       "      <td>+91 80099 32451‬</td>\n",
       "      <td>And ignore sample data pls</td>\n",
       "      <td>26/11/23</td>\n",
       "      <td>9:29:02 PM</td>\n",
       "    </tr>\n",
       "    <tr>\n",
       "      <th>4</th>\n",
       "      <td>+91 97481 96908‬</td>\n",
       "      <td>Polygon?</td>\n",
       "      <td>26/11/23</td>\n",
       "      <td>9:29:24 PM</td>\n",
       "    </tr>\n",
       "  </tbody>\n",
       "</table>\n",
       "</div>"
      ],
      "text/plain": [
       "             Number                                            Message  \\\n",
       "0  +91 97481 96908‬  ‎‪+91 97481 96908‬ created group “GDSC TIU Fre...   \n",
       "1  +91 98833 49314‬                                     ‎video omitted   \n",
       "2  +91 80099 32451‬                                     ‎image omitted   \n",
       "3  +91 80099 32451‬                         And ignore sample data pls   \n",
       "4  +91 97481 96908‬                                           Polygon?   \n",
       "\n",
       "       Date         Time  \n",
       "0  29/08/23   4:09:24 PM  \n",
       "1  26/11/23   8:03:40 PM  \n",
       "2  26/11/23   9:27:29 PM  \n",
       "3  26/11/23   9:29:02 PM  \n",
       "4  26/11/23   9:29:24 PM  "
      ]
     },
     "execution_count": 10,
     "metadata": {},
     "output_type": "execute_result"
    }
   ],
   "source": [
    "df.drop(\"Date_Time\", axis=1,inplace=True)\n",
    "df.head()"
   ]
  },
  {
   "cell_type": "code",
   "execution_count": 11,
   "id": "9459de4d-a4c5-4d17-b94f-9e0039d738c9",
   "metadata": {},
   "outputs": [
    {
     "data": {
      "text/html": [
       "<div>\n",
       "<style scoped>\n",
       "    .dataframe tbody tr th:only-of-type {\n",
       "        vertical-align: middle;\n",
       "    }\n",
       "\n",
       "    .dataframe tbody tr th {\n",
       "        vertical-align: top;\n",
       "    }\n",
       "\n",
       "    .dataframe thead th {\n",
       "        text-align: right;\n",
       "    }\n",
       "</style>\n",
       "<table border=\"1\" class=\"dataframe\">\n",
       "  <thead>\n",
       "    <tr style=\"text-align: right;\">\n",
       "      <th></th>\n",
       "      <th>Number</th>\n",
       "      <th>Message</th>\n",
       "      <th>Date</th>\n",
       "      <th>Time</th>\n",
       "    </tr>\n",
       "  </thead>\n",
       "  <tbody>\n",
       "    <tr>\n",
       "      <th>count</th>\n",
       "      <td>7030</td>\n",
       "      <td>7030</td>\n",
       "      <td>7030</td>\n",
       "      <td>7030</td>\n",
       "    </tr>\n",
       "    <tr>\n",
       "      <th>unique</th>\n",
       "      <td>225</td>\n",
       "      <td>5453</td>\n",
       "      <td>103</td>\n",
       "      <td>6500</td>\n",
       "    </tr>\n",
       "    <tr>\n",
       "      <th>top</th>\n",
       "      <td>+91 97481 96908‬</td>\n",
       "      <td>‎sticker omitted</td>\n",
       "      <td>05/12/23</td>\n",
       "      <td>12:05:49 AM</td>\n",
       "    </tr>\n",
       "    <tr>\n",
       "      <th>freq</th>\n",
       "      <td>1505</td>\n",
       "      <td>593</td>\n",
       "      <td>403</td>\n",
       "      <td>4</td>\n",
       "    </tr>\n",
       "  </tbody>\n",
       "</table>\n",
       "</div>"
      ],
      "text/plain": [
       "                  Number           Message      Date          Time\n",
       "count               7030              7030      7030          7030\n",
       "unique               225              5453       103          6500\n",
       "top     +91 97481 96908‬  ‎sticker omitted  05/12/23   12:05:49 AM\n",
       "freq                1505               593       403             4"
      ]
     },
     "execution_count": 11,
     "metadata": {},
     "output_type": "execute_result"
    }
   ],
   "source": [
    "df.describe()"
   ]
  },
  {
   "cell_type": "code",
   "execution_count": 1,
   "id": "cee9330b-16ca-4533-86ed-11b1fd824885",
   "metadata": {},
   "outputs": [
    {
     "ename": "NameError",
     "evalue": "name 'pd' is not defined",
     "output_type": "error",
     "traceback": [
      "\u001b[0;31m---------------------------------------------------------------------------\u001b[0m",
      "\u001b[0;31mNameError\u001b[0m                                 Traceback (most recent call last)",
      "Cell \u001b[0;32mIn[1], line 2\u001b[0m\n\u001b[1;32m      1\u001b[0m \u001b[38;5;66;03m# Convert the date and time string column into the date and time column\u001b[39;00m\n\u001b[0;32m----> 2\u001b[0m df[\u001b[38;5;124m'\u001b[39m\u001b[38;5;124mDate\u001b[39m\u001b[38;5;124m'\u001b[39m] \u001b[38;5;241m=\u001b[39m \u001b[43mpd\u001b[49m\u001b[38;5;241m.\u001b[39mto_datetime(df[\u001b[38;5;124m'\u001b[39m\u001b[38;5;124mDate\u001b[39m\u001b[38;5;124m'\u001b[39m], \u001b[38;5;28mformat\u001b[39m\u001b[38;5;241m=\u001b[39m\u001b[38;5;124m\"\u001b[39m\u001b[38;5;132;01m%d\u001b[39;00m\u001b[38;5;124m/\u001b[39m\u001b[38;5;124m%\u001b[39m\u001b[38;5;124mm/\u001b[39m\u001b[38;5;124m%\u001b[39m\u001b[38;5;124mY\u001b[39m\u001b[38;5;124m\"\u001b[39m) \n",
      "\u001b[0;31mNameError\u001b[0m: name 'pd' is not defined"
     ]
    }
   ],
   "source": [
    "# Convert the date and time string column into the date and time column\n",
    "df['Date'] = pd.to_datetime(df['Date'], format=\"%d/%m/%Y\") "
   ]
  },
  {
   "cell_type": "code",
   "execution_count": 35,
   "id": "b6e4216d-433d-40ea-8add-4d1886ba50a1",
   "metadata": {},
   "outputs": [
    {
     "ename": "AttributeError",
     "evalue": "module 'pandas' has no attribute 'dt'",
     "output_type": "error",
     "traceback": [
      "\u001b[0;31m---------------------------------------------------------------------------\u001b[0m",
      "\u001b[0;31mAttributeError\u001b[0m                            Traceback (most recent call last)",
      "Cell \u001b[0;32mIn[35], line 1\u001b[0m\n\u001b[0;32m----> 1\u001b[0m df[df\u001b[38;5;241m.\u001b[39mDate \u001b[38;5;241m>\u001b[39m \u001b[43mpd\u001b[49m\u001b[38;5;241;43m.\u001b[39;49m\u001b[43mdt\u001b[49m\u001b[38;5;241m.\u001b[39mdate(\u001b[38;5;124m'\u001b[39m\u001b[38;5;124m29-01-24\u001b[39m\u001b[38;5;124m'\u001b[39m)]\n",
      "\u001b[0;31mAttributeError\u001b[0m: module 'pandas' has no attribute 'dt'"
     ]
    }
   ],
   "source": [
    "df[df.Date > 29-01-24]"
   ]
  },
  {
   "cell_type": "code",
   "execution_count": 39,
   "id": "1566b7f6-7ef5-4508-889c-5a7d9071c0a8",
   "metadata": {},
   "outputs": [],
   "source": [
    "# convert the date and time so that it can be sorted\n",
    "# join every messages and remove the unnecessary words, keep only the valueable words to make the \n",
    "# frequency plot. and a wordcloud\n",
    "\n",
    "# Make vector embedings to plots the words into a 2d space\n",
    "\n",
    "# pick a particular topic and summerize the topic"
   ]
  },
  {
   "cell_type": "code",
   "execution_count": null,
   "id": "c8294dfb-8be6-4498-a59c-817483779330",
   "metadata": {},
   "outputs": [],
   "source": []
  }
 ],
 "metadata": {
  "kernelspec": {
   "display_name": "Python 3 (ipykernel)",
   "language": "python",
   "name": "python3"
  },
  "language_info": {
   "codemirror_mode": {
    "name": "ipython",
    "version": 3
   },
   "file_extension": ".py",
   "mimetype": "text/x-python",
   "name": "python",
   "nbconvert_exporter": "python",
   "pygments_lexer": "ipython3",
   "version": "3.11.8"
  }
 },
 "nbformat": 4,
 "nbformat_minor": 5
}
